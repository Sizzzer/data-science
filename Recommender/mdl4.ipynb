{
 "cells": [
  {
   "cell_type": "code",
   "execution_count": 1,
   "metadata": {},
   "outputs": [],
   "source": [
    "import pandas as pd\n",
    "import numpy as np\n",
    "import re\n",
    "import time\n",
    "import bs4\n",
    "import json\n",
    "import glob\n",
    "import tqdm\n",
    "\n",
    "from sklearn.feature_extraction.text import TfidfVectorizer\n",
    "from scipy.sparse import hstack\n",
    "from sklearn.ensemble import RandomForestClassifier\n",
    "from sklearn.metrics import average_precision_score, roc_auc_score\n",
    "\n",
    "%matplotlib inline"
   ]
  },
  {
   "cell_type": "code",
   "execution_count": 2,
   "metadata": {},
   "outputs": [],
   "source": [
    "df = pd.read_csv('data_with_all_labels.csv', header=0)\n",
    "df_clean = pd.DataFrame(index=df.index)\n",
    "df_clean['title'] = df['title']"
   ]
  },
  {
   "cell_type": "code",
   "execution_count": 3,
   "metadata": {},
   "outputs": [],
   "source": [
    "duration = df['duration_code'].str.extract('PT(\\d+)M(\\d+)')\n",
    "\n",
    "minute = duration[0].map(int)\n",
    "seconds = duration[1].map(int)\n",
    "\n",
    "df_clean['duration'] = round((minute*60 + seconds)/60, 2) #testando duração em minutos dessa vez"
   ]
  },
  {
   "cell_type": "code",
   "execution_count": 4,
   "metadata": {},
   "outputs": [],
   "source": [
    "subscribers = df['subscribers'].str.replace(',','.')\n",
    "\n",
    "def convert_unity(num):\n",
    "    \n",
    "    if 'mil' in num:\n",
    "        num = num.split()[0]\n",
    "        return float(num)*10**3\n",
    "    \n",
    "    elif 'mi' in num:\n",
    "        num = num.split()[0]\n",
    "        return float(num)*10**6\n",
    "    \n",
    "    else:\n",
    "        return float(num)\n",
    "        \n",
    "subscribers = subscribers.map(convert_unity).astype(int)\n",
    "\n",
    "df_clean['subscribers'] = subscribers"
   ]
  },
  {
   "cell_type": "code",
   "execution_count": 5,
   "metadata": {},
   "outputs": [],
   "source": [
    "df_clean['views'] = df['views'].str.replace('.', '').astype(int)"
   ]
  },
  {
   "cell_type": "code",
   "execution_count": 6,
   "metadata": {},
   "outputs": [],
   "source": [
    "df_clean['likes'] = df['likes']\n",
    "df_clean['dislikes'] = df['dislikes']"
   ]
  },
  {
   "cell_type": "code",
   "execution_count": 7,
   "metadata": {},
   "outputs": [],
   "source": [
    "date = df['date'].str.extract('(\\d+) de (\\w+)\\. de (\\d+)')\n",
    "date[0] = date[0].map(lambda x: '0'+x if len(x)<2 else x)\n",
    "\n",
    "months_map = {'jan':'01',\n",
    "             'fev': '02',\n",
    "             'mar': '03',\n",
    "             'abr':'04',\n",
    "             'mai':'05',\n",
    "             'jun':'06',\n",
    "             'jul':'07',\n",
    "             'ago':'08',\n",
    "             'set':'09',\n",
    "             'out':'10',\n",
    "             'nov':'11',\n",
    "             'dez':'12',}\n",
    "date[1] = date[1].map(months_map)\n",
    "\n",
    "date = date.apply(lambda x: '-'.join(x), axis=1)\n",
    "df_clean['date']= pd.to_datetime(date, format='%d-%m-%Y')"
   ]
  },
  {
   "cell_type": "code",
   "execution_count": 8,
   "metadata": {},
   "outputs": [],
   "source": [
    "features = pd.DataFrame(index=df.index)\n",
    "y = df['y'].copy()"
   ]
  },
  {
   "cell_type": "code",
   "execution_count": 9,
   "metadata": {},
   "outputs": [],
   "source": [
    "features = pd.DataFrame(index=df.index)\n",
    "y = df['y'].copy()\n",
    "features['time_pub'] = (pd.to_datetime('2020-04-23') - df_clean['date']) / np.timedelta64(1, 'D')\n",
    "\n",
    "features['views'] = df_clean['views']\n",
    "features['views_for_day'] = round(features['views'] / features['time_pub'], 2)\n",
    "\n",
    "features['likes'] = df_clean['likes']\n",
    "features['likes_for_day'] = round(features['likes'] / features['time_pub'], 2)\n",
    "\n",
    "features['dislikes'] = df_clean['dislikes']\n",
    "features['dislikes_for_day'] = round(features['dislikes'] / features['time_pub'], 2)\n",
    "\n",
    "features = features.drop(['time_pub'], axis=1)\n",
    "\n",
    "features['subscribers'] = df_clean['subscribers']\n",
    "\n",
    "features['duration_min'] = df_clean['duration']"
   ]
  },
  {
   "cell_type": "code",
   "execution_count": 10,
   "metadata": {},
   "outputs": [],
   "source": [
    "train_mask = (df_clean['date'] < '2019-07-31')\n",
    "valid_mask = (df_clean['date'] >= '2019-07-31' )"
   ]
  },
  {
   "cell_type": "code",
   "execution_count": 11,
   "metadata": {},
   "outputs": [],
   "source": [
    "xtrain, xvalid = features[train_mask], features[valid_mask]\n",
    "ytrain, yvalid = y[train_mask], y[valid_mask]\n",
    "\n",
    "title_train = df_clean[train_mask]['title']\n",
    "title_valid = df_clean[valid_mask]['title']"
   ]
  },
  {
   "cell_type": "code",
   "execution_count": 12,
   "metadata": {},
   "outputs": [],
   "source": [
    "title_vect = TfidfVectorizer(min_df=1) #,  ngram_range=(1,1)\n",
    "\n",
    "title_bow_train = title_vect.fit_transform(title_train)\n",
    "title_bow_valid = title_vect.transform(title_valid)"
   ]
  },
  {
   "cell_type": "code",
   "execution_count": 13,
   "metadata": {},
   "outputs": [],
   "source": [
    "xtrain_wtitle = hstack([xtrain, title_bow_train])\n",
    "xvalid_wtitle = hstack([xvalid, title_bow_valid])"
   ]
  },
  {
   "cell_type": "code",
   "execution_count": 14,
   "metadata": {},
   "outputs": [
    {
     "data": {
      "text/plain": [
       "<464x1358 sparse matrix of type '<class 'numpy.float64'>'\n",
       "\twith 6669 stored elements in COOrdinate format>"
      ]
     },
     "execution_count": 14,
     "metadata": {},
     "output_type": "execute_result"
    }
   ],
   "source": [
    "xvalid_wtitle"
   ]
  },
  {
   "cell_type": "code",
   "execution_count": 15,
   "metadata": {},
   "outputs": [
    {
     "data": {
      "text/plain": [
       "RandomForestClassifier(bootstrap=True, ccp_alpha=0.0, class_weight='balanced',\n",
       "                       criterion='gini', max_depth=None, max_features='auto',\n",
       "                       max_leaf_nodes=None, max_samples=None,\n",
       "                       min_impurity_decrease=0.0, min_impurity_split=None,\n",
       "                       min_samples_leaf=1, min_samples_split=2,\n",
       "                       min_weight_fraction_leaf=0.0, n_estimators=1000,\n",
       "                       n_jobs=-1, oob_score=False, random_state=42, verbose=0,\n",
       "                       warm_start=False)"
      ]
     },
     "execution_count": 15,
     "metadata": {},
     "output_type": "execute_result"
    }
   ],
   "source": [
    "mdl= RandomForestClassifier(n_estimators=1000, n_jobs=-1, random_state=42,\n",
    "                            class_weight='balanced', min_samples_split=2)\n",
    "mdl.fit(xtrain_wtitle, ytrain)"
   ]
  },
  {
   "cell_type": "code",
   "execution_count": 16,
   "metadata": {},
   "outputs": [],
   "source": [
    "p = mdl.predict_proba(xvalid_wtitle)[:,1]"
   ]
  },
  {
   "cell_type": "code",
   "execution_count": 17,
   "metadata": {},
   "outputs": [
    {
     "data": {
      "text/plain": [
       "(0.7710727306881153, 0.9921541872761386)"
      ]
     },
     "execution_count": 17,
     "metadata": {},
     "output_type": "execute_result"
    }
   ],
   "source": [
    "average_precision_score(yvalid, p), roc_auc_score(yvalid, p)"
   ]
  },
  {
   "cell_type": "raw",
   "metadata": {},
   "source": [
    "(0.7035189420936028, 0.9901927340951732) - BASE mid_df=2 - min_samples_split=2, n_estimators=1000\n",
    "\n",
    "(0.651058155017431, 0.9887429643527205) - min_df=2 - min_samples_split=3\n",
    "(0.6944276160076432, 0.9878901586218659) - min_df=2 - min_samples_split=3, n_estimators=500\n",
    "(0.6542373476197005, 0.9848200579907896) - min_df=2 - min_samples_split=3, n_estimators=100\n",
    "\n",
    "(0.7710727306881153, 0.9921541872761386) - min_df=1 ********************\n",
    "(0.6094931676510623, 0.9853317414293025) - min_df=3\n",
    "(0.6506931261406965, 0.9825174825174825) - min_df=1, ngram_range=(1,2)\n",
    "(0.6501176885792271, 0.9880607197680368) - min_df=2,  ngram_range=(1,2)\n",
    "(0.6272040177017553, 0.9767184035476718) - min_df=1,  ngram_range=(1,3)\n",
    "(0.6205781805657736, 0.9843083745522769) - min_df=2,  ngram_range=(1,3)"
   ]
  },
  {
   "cell_type": "code",
   "execution_count": null,
   "metadata": {},
   "outputs": [],
   "source": []
  }
 ],
 "metadata": {
  "kernelspec": {
   "display_name": "Python 3",
   "language": "python",
   "name": "python3"
  },
  "language_info": {
   "codemirror_mode": {
    "name": "ipython",
    "version": 3
   },
   "file_extension": ".py",
   "mimetype": "text/x-python",
   "name": "python",
   "nbconvert_exporter": "python",
   "pygments_lexer": "ipython3",
   "version": "3.7.6"
  }
 },
 "nbformat": 4,
 "nbformat_minor": 4
}
