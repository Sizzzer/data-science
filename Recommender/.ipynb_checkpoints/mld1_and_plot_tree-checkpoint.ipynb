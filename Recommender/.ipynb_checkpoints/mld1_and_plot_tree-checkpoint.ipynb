{
 "cells": [
  {
   "cell_type": "code",
   "execution_count": 16,
   "metadata": {},
   "outputs": [],
   "source": [
    "import pandas as pd\n",
    "import numpy as np"
   ]
  },
  {
   "cell_type": "code",
   "execution_count": 39,
   "metadata": {},
   "outputs": [
    {
     "data": {
      "text/html": [
       "<div>\n",
       "<style scoped>\n",
       "    .dataframe tbody tr th:only-of-type {\n",
       "        vertical-align: middle;\n",
       "    }\n",
       "\n",
       "    .dataframe tbody tr th {\n",
       "        vertical-align: top;\n",
       "    }\n",
       "\n",
       "    .dataframe thead th {\n",
       "        text-align: right;\n",
       "    }\n",
       "</style>\n",
       "<table border=\"1\" class=\"dataframe\">\n",
       "  <thead>\n",
       "    <tr style=\"text-align: right;\">\n",
       "      <th></th>\n",
       "      <th>title</th>\n",
       "      <th>duration_code</th>\n",
       "      <th>y</th>\n",
       "      <th>link</th>\n",
       "      <th>subscribers</th>\n",
       "      <th>views</th>\n",
       "      <th>likes</th>\n",
       "      <th>dislikes</th>\n",
       "      <th>date</th>\n",
       "      <th>thumbnailUrl</th>\n",
       "    </tr>\n",
       "  </thead>\n",
       "  <tbody>\n",
       "    <tr>\n",
       "      <th>0</th>\n",
       "      <td>Machine Learning Course A To Z || Beginner to ...</td>\n",
       "      <td>PT495M58S</td>\n",
       "      <td>0.0</td>\n",
       "      <td>https://www.youtube.com/watch?v=-58kO_zYUGE.html</td>\n",
       "      <td>173 mil</td>\n",
       "      <td>175.311</td>\n",
       "      <td>5131</td>\n",
       "      <td>65</td>\n",
       "      <td>Publicado em 10 de ago. de 2018</td>\n",
       "      <td>https://i.ytimg.com/vi/-58kO_zYUGE/maxresdefau...</td>\n",
       "    </tr>\n",
       "    <tr>\n",
       "      <th>1</th>\n",
       "      <td>How to Become A Machine Learning Engineer | Ho...</td>\n",
       "      <td>PT9M44S</td>\n",
       "      <td>0.0</td>\n",
       "      <td>https://www.youtube.com/watch?v=-5hEYRt8JE0.html</td>\n",
       "      <td>484 mil</td>\n",
       "      <td>34.724</td>\n",
       "      <td>782</td>\n",
       "      <td>20</td>\n",
       "      <td>Publicado em 3 de set. de 2018</td>\n",
       "      <td>https://i.ytimg.com/vi/-5hEYRt8JE0/maxresdefau...</td>\n",
       "    </tr>\n",
       "    <tr>\n",
       "      <th>2</th>\n",
       "      <td>Python For Data Science Full Course - 9 Hours ...</td>\n",
       "      <td>PT562M56S</td>\n",
       "      <td>0.0</td>\n",
       "      <td>https://www.youtube.com/watch?v=-6RqxhNO2yY.html</td>\n",
       "      <td>1,62 mi</td>\n",
       "      <td>18.021</td>\n",
       "      <td>680</td>\n",
       "      <td>8</td>\n",
       "      <td>Publicado em 15 de mar. de 2020</td>\n",
       "      <td>https://i.ytimg.com/vi/-6RqxhNO2yY/maxresdefau...</td>\n",
       "    </tr>\n",
       "    <tr>\n",
       "      <th>3</th>\n",
       "      <td>Michael I. Jordan: Machine Learning: Dynamical...</td>\n",
       "      <td>PT75M13S</td>\n",
       "      <td>0.0</td>\n",
       "      <td>https://www.youtube.com/watch?v=-8yYFdV5SOc.html</td>\n",
       "      <td>2,84 mil</td>\n",
       "      <td>4.193</td>\n",
       "      <td>94</td>\n",
       "      <td>3</td>\n",
       "      <td>Publicado em 2 de mai. de 2019</td>\n",
       "      <td>https://i.ytimg.com/vi/-8yYFdV5SOc/maxresdefau...</td>\n",
       "    </tr>\n",
       "    <tr>\n",
       "      <th>4</th>\n",
       "      <td>Best Programming Languages for Machine Learning</td>\n",
       "      <td>PT8M21S</td>\n",
       "      <td>0.0</td>\n",
       "      <td>https://www.youtube.com/watch?v=-cdxxrbKdho.html</td>\n",
       "      <td>702 mil</td>\n",
       "      <td>103.756</td>\n",
       "      <td>3167</td>\n",
       "      <td>155</td>\n",
       "      <td>Publicado em 5 de ago. de 2018</td>\n",
       "      <td>https://i.ytimg.com/vi/-cdxxrbKdho/hqdefault.jpg</td>\n",
       "    </tr>\n",
       "    <tr>\n",
       "      <th>...</th>\n",
       "      <td>...</td>\n",
       "      <td>...</td>\n",
       "      <td>...</td>\n",
       "      <td>...</td>\n",
       "      <td>...</td>\n",
       "      <td>...</td>\n",
       "      <td>...</td>\n",
       "      <td>...</td>\n",
       "      <td>...</td>\n",
       "      <td>...</td>\n",
       "    </tr>\n",
       "    <tr>\n",
       "      <th>569</th>\n",
       "      <td>O que é Deep Learning? #HipstersPontoTube</td>\n",
       "      <td>PT10M10S</td>\n",
       "      <td>1.0</td>\n",
       "      <td>https://www.youtube.com/watch?v=kryIBKPVZ7A.html</td>\n",
       "      <td>76,6 mil</td>\n",
       "      <td>4.533</td>\n",
       "      <td>463</td>\n",
       "      <td>3</td>\n",
       "      <td>Publicado em 8 de jan. de 2020</td>\n",
       "      <td>https://i.ytimg.com/vi/kryIBKPVZ7A/maxresdefau...</td>\n",
       "    </tr>\n",
       "    <tr>\n",
       "      <th>601</th>\n",
       "      <td>Time Series #1 - Como Criar o Ambiente de Dese...</td>\n",
       "      <td>PT15M24S</td>\n",
       "      <td>1.0</td>\n",
       "      <td>https://www.youtube.com/watch?v=lYLGaLEvWto.html</td>\n",
       "      <td>4,87 mil</td>\n",
       "      <td>3.347</td>\n",
       "      <td>176</td>\n",
       "      <td>1</td>\n",
       "      <td>Publicado em 3 de set. de 2019</td>\n",
       "      <td>https://i.ytimg.com/vi/lYLGaLEvWto/maxresdefau...</td>\n",
       "    </tr>\n",
       "    <tr>\n",
       "      <th>602</th>\n",
       "      <td>Ciência de dados: como é criar o primeiro proj...</td>\n",
       "      <td>PT6M23S</td>\n",
       "      <td>1.0</td>\n",
       "      <td>https://www.youtube.com/watch?v=L_SZQKv5Cl0.html</td>\n",
       "      <td>3,57 mi</td>\n",
       "      <td>25.722</td>\n",
       "      <td>1661</td>\n",
       "      <td>48</td>\n",
       "      <td>Publicado em 16 de nov. de 2018</td>\n",
       "      <td>https://i.ytimg.com/vi/L_SZQKv5Cl0/maxresdefau...</td>\n",
       "    </tr>\n",
       "    <tr>\n",
       "      <th>619</th>\n",
       "      <td>Machine Learning: como ensinar uma máquina a a...</td>\n",
       "      <td>PT10M11S</td>\n",
       "      <td>1.0</td>\n",
       "      <td>https://www.youtube.com/watch?v=mhe5e2B9bL8.html</td>\n",
       "      <td>2,84 mi</td>\n",
       "      <td>317.616</td>\n",
       "      <td>35638</td>\n",
       "      <td>181</td>\n",
       "      <td>Publicado em 30 de ago. de 2018</td>\n",
       "      <td>https://i.ytimg.com/vi/mhe5e2B9bL8/maxresdefau...</td>\n",
       "    </tr>\n",
       "    <tr>\n",
       "      <th>793</th>\n",
       "      <td>Uma jornada rumo à Data Science - Christiano A...</td>\n",
       "      <td>PT30M36S</td>\n",
       "      <td>1.0</td>\n",
       "      <td>https://www.youtube.com/watch?v=repvSAPjB-s.html</td>\n",
       "      <td>15 mil</td>\n",
       "      <td>24.300</td>\n",
       "      <td>1070</td>\n",
       "      <td>12</td>\n",
       "      <td>Publicado em 2 de out. de 2017</td>\n",
       "      <td>https://i.ytimg.com/vi/repvSAPjB-s/maxresdefau...</td>\n",
       "    </tr>\n",
       "  </tbody>\n",
       "</table>\n",
       "<p>521 rows × 10 columns</p>\n",
       "</div>"
      ],
      "text/plain": [
       "                                                 title duration_code    y  \\\n",
       "0    Machine Learning Course A To Z || Beginner to ...     PT495M58S  0.0   \n",
       "1    How to Become A Machine Learning Engineer | Ho...       PT9M44S  0.0   \n",
       "2    Python For Data Science Full Course - 9 Hours ...     PT562M56S  0.0   \n",
       "3    Michael I. Jordan: Machine Learning: Dynamical...      PT75M13S  0.0   \n",
       "4      Best Programming Languages for Machine Learning       PT8M21S  0.0   \n",
       "..                                                 ...           ...  ...   \n",
       "569          O que é Deep Learning? #HipstersPontoTube      PT10M10S  1.0   \n",
       "601  Time Series #1 - Como Criar o Ambiente de Dese...      PT15M24S  1.0   \n",
       "602  Ciência de dados: como é criar o primeiro proj...       PT6M23S  1.0   \n",
       "619  Machine Learning: como ensinar uma máquina a a...      PT10M11S  1.0   \n",
       "793  Uma jornada rumo à Data Science - Christiano A...      PT30M36S  1.0   \n",
       "\n",
       "                                                 link subscribers    views  \\\n",
       "0    https://www.youtube.com/watch?v=-58kO_zYUGE.html     173 mil  175.311   \n",
       "1    https://www.youtube.com/watch?v=-5hEYRt8JE0.html     484 mil   34.724   \n",
       "2    https://www.youtube.com/watch?v=-6RqxhNO2yY.html     1,62 mi   18.021   \n",
       "3    https://www.youtube.com/watch?v=-8yYFdV5SOc.html    2,84 mil    4.193   \n",
       "4    https://www.youtube.com/watch?v=-cdxxrbKdho.html     702 mil  103.756   \n",
       "..                                                ...         ...      ...   \n",
       "569  https://www.youtube.com/watch?v=kryIBKPVZ7A.html    76,6 mil    4.533   \n",
       "601  https://www.youtube.com/watch?v=lYLGaLEvWto.html    4,87 mil    3.347   \n",
       "602  https://www.youtube.com/watch?v=L_SZQKv5Cl0.html     3,57 mi   25.722   \n",
       "619  https://www.youtube.com/watch?v=mhe5e2B9bL8.html     2,84 mi  317.616   \n",
       "793  https://www.youtube.com/watch?v=repvSAPjB-s.html      15 mil   24.300   \n",
       "\n",
       "     likes  dislikes                             date  \\\n",
       "0     5131        65  Publicado em 10 de ago. de 2018   \n",
       "1      782        20   Publicado em 3 de set. de 2018   \n",
       "2      680         8  Publicado em 15 de mar. de 2020   \n",
       "3       94         3   Publicado em 2 de mai. de 2019   \n",
       "4     3167       155   Publicado em 5 de ago. de 2018   \n",
       "..     ...       ...                              ...   \n",
       "569    463         3   Publicado em 8 de jan. de 2020   \n",
       "601    176         1   Publicado em 3 de set. de 2019   \n",
       "602   1661        48  Publicado em 16 de nov. de 2018   \n",
       "619  35638       181  Publicado em 30 de ago. de 2018   \n",
       "793   1070        12   Publicado em 2 de out. de 2017   \n",
       "\n",
       "                                          thumbnailUrl  \n",
       "0    https://i.ytimg.com/vi/-58kO_zYUGE/maxresdefau...  \n",
       "1    https://i.ytimg.com/vi/-5hEYRt8JE0/maxresdefau...  \n",
       "2    https://i.ytimg.com/vi/-6RqxhNO2yY/maxresdefau...  \n",
       "3    https://i.ytimg.com/vi/-8yYFdV5SOc/maxresdefau...  \n",
       "4     https://i.ytimg.com/vi/-cdxxrbKdho/hqdefault.jpg  \n",
       "..                                                 ...  \n",
       "569  https://i.ytimg.com/vi/kryIBKPVZ7A/maxresdefau...  \n",
       "601  https://i.ytimg.com/vi/lYLGaLEvWto/maxresdefau...  \n",
       "602  https://i.ytimg.com/vi/L_SZQKv5Cl0/maxresdefau...  \n",
       "619  https://i.ytimg.com/vi/mhe5e2B9bL8/maxresdefau...  \n",
       "793  https://i.ytimg.com/vi/repvSAPjB-s/maxresdefau...  \n",
       "\n",
       "[521 rows x 10 columns]"
      ]
     },
     "execution_count": 39,
     "metadata": {},
     "output_type": "execute_result"
    }
   ],
   "source": [
    "all_data = pd.read_csv('data_with_label.csv', index_col=0)\n",
    "df = all_data.dropna()\n",
    "df"
   ]
  },
  {
   "cell_type": "markdown",
   "metadata": {},
   "source": [
    "# 1 Cleaning and Preparation"
   ]
  },
  {
   "cell_type": "markdown",
   "metadata": {},
   "source": [
    "### 1.1 Dates"
   ]
  },
  {
   "cell_type": "code",
   "execution_count": 40,
   "metadata": {},
   "outputs": [
    {
     "data": {
      "text/plain": [
       "array(['Publicado', 'Transmitido', 'Estreou'], dtype=object)"
      ]
     },
     "execution_count": 40,
     "metadata": {},
     "output_type": "execute_result"
    }
   ],
   "source": [
    "condition = []\n",
    "for date in df['date']:\n",
    "    condition.append( date.split()[0] )\n",
    "    \n",
    "pd.Series(condition).unique()"
   ]
  },
  {
   "cell_type": "code",
   "execution_count": 41,
   "metadata": {},
   "outputs": [
    {
     "name": "stdout",
     "output_type": "stream",
     "text": [
      "31\n",
      "12\n",
      "6\n"
     ]
    },
    {
     "data": {
      "text/html": [
       "<div>\n",
       "<style scoped>\n",
       "    .dataframe tbody tr th:only-of-type {\n",
       "        vertical-align: middle;\n",
       "    }\n",
       "\n",
       "    .dataframe tbody tr th {\n",
       "        vertical-align: top;\n",
       "    }\n",
       "\n",
       "    .dataframe thead th {\n",
       "        text-align: right;\n",
       "    }\n",
       "</style>\n",
       "<table border=\"1\" class=\"dataframe\">\n",
       "  <thead>\n",
       "    <tr style=\"text-align: right;\">\n",
       "      <th></th>\n",
       "      <th>0</th>\n",
       "      <th>1</th>\n",
       "      <th>2</th>\n",
       "    </tr>\n",
       "  </thead>\n",
       "  <tbody>\n",
       "    <tr>\n",
       "      <th>0</th>\n",
       "      <td>10</td>\n",
       "      <td>ago</td>\n",
       "      <td>2018</td>\n",
       "    </tr>\n",
       "    <tr>\n",
       "      <th>1</th>\n",
       "      <td>3</td>\n",
       "      <td>set</td>\n",
       "      <td>2018</td>\n",
       "    </tr>\n",
       "    <tr>\n",
       "      <th>2</th>\n",
       "      <td>15</td>\n",
       "      <td>mar</td>\n",
       "      <td>2020</td>\n",
       "    </tr>\n",
       "    <tr>\n",
       "      <th>3</th>\n",
       "      <td>2</td>\n",
       "      <td>mai</td>\n",
       "      <td>2019</td>\n",
       "    </tr>\n",
       "  </tbody>\n",
       "</table>\n",
       "</div>"
      ],
      "text/plain": [
       "    0    1     2\n",
       "0  10  ago  2018\n",
       "1   3  set  2018\n",
       "2  15  mar  2020\n",
       "3   2  mai  2019"
      ]
     },
     "execution_count": 41,
     "metadata": {},
     "output_type": "execute_result"
    }
   ],
   "source": [
    "date = df['date'].str.extract('(\\d+) de (\\w+)\\. de (\\d+)')\n",
    "print(len(date[0].unique())) #quantidade de dias unicos\n",
    "print(len(date[1].unique())) #quantidade de meses unicos\n",
    "print(len(date[2].unique())) #quantidade de anos unicos\n",
    "date.head(4)"
   ]
  },
  {
   "cell_type": "code",
   "execution_count": 42,
   "metadata": {},
   "outputs": [],
   "source": [
    "date[0] = date[0].map(lambda x: '0'+x if len(x)<2 else x) #add a 0 in days between 1 and 9\n",
    "\n",
    "months_map = {'jan':'01',\n",
    "             'fev': '02',\n",
    "             'mar': '03',\n",
    "             'abr':'04',\n",
    "             'mai':'05',\n",
    "             'jun':'06',\n",
    "             'jul':'07',\n",
    "             'ago':'08',\n",
    "             'set':'09',\n",
    "             'out':'10',\n",
    "             'nov':'11',\n",
    "             'dez':'12',}\n",
    "date[1] = date[1].map(months_map) #convert the months for numbers\n",
    "\n",
    "date = date.apply(lambda x: '-'.join(x), axis=1) #merges columns, joining str with '-'"
   ]
  },
  {
   "cell_type": "code",
   "execution_count": 43,
   "metadata": {},
   "outputs": [
    {
     "name": "stderr",
     "output_type": "stream",
     "text": [
      "C:\\ProgramData\\Anaconda3\\lib\\site-packages\\ipykernel_launcher.py:1: SettingWithCopyWarning: \n",
      "A value is trying to be set on a copy of a slice from a DataFrame.\n",
      "Try using .loc[row_indexer,col_indexer] = value instead\n",
      "\n",
      "See the caveats in the documentation: https://pandas.pydata.org/pandas-docs/stable/user_guide/indexing.html#returning-a-view-versus-a-copy\n",
      "  \"\"\"Entry point for launching an IPython kernel.\n"
     ]
    }
   ],
   "source": [
    "df['date']= pd.to_datetime(date, format='%d-%m-%Y') #transform str into datetime and replace in df\n"
   ]
  },
  {
   "cell_type": "markdown",
   "metadata": {},
   "source": [
    "### 1.2 Duration"
   ]
  },
  {
   "cell_type": "code",
   "execution_count": 44,
   "metadata": {},
   "outputs": [],
   "source": [
    "duration = df['duration_code'].str.extract('PT(\\d+)M(\\d+)')\n",
    "\n",
    "def transf_min_hour(min):\n",
    "    min = int(min)\n",
    "    if min<60:\n",
    "        return 'h0m{}'.format(min)\n",
    "    else:\n",
    "        return 'h{}m{}'.format(min//60, min%60)\n",
    "\n",
    "duration[0] = duration[0].map(transf_min_hour)\n",
    "\n",
    "hour_min = duration[0].str.extract('h(\\d+)m(\\d+)')\n",
    "hour_min = hour_min.apply(lambda x: ':'.join(x), axis=1)\n",
    "\n",
    "duration[0] = hour_min\n",
    "duration = duration.apply(lambda x: ':'.join(x), axis=1)"
   ]
  },
  {
   "cell_type": "code",
   "execution_count": 45,
   "metadata": {},
   "outputs": [
    {
     "name": "stderr",
     "output_type": "stream",
     "text": [
      "C:\\ProgramData\\Anaconda3\\lib\\site-packages\\ipykernel_launcher.py:1: SettingWithCopyWarning: \n",
      "A value is trying to be set on a copy of a slice from a DataFrame.\n",
      "Try using .loc[row_indexer,col_indexer] = value instead\n",
      "\n",
      "See the caveats in the documentation: https://pandas.pydata.org/pandas-docs/stable/user_guide/indexing.html#returning-a-view-versus-a-copy\n",
      "  \"\"\"Entry point for launching an IPython kernel.\n"
     ]
    }
   ],
   "source": [
    "df['duration_code'] = pd.to_timedelta(duration)\n",
    "df.columns = ['title', 'duration', 'y', 'link', 'subscribers', 'views', 'likes',\n",
    "       'dislikes', 'date', 'thumbnailUrl'] #changing duration_code to duration"
   ]
  },
  {
   "cell_type": "markdown",
   "metadata": {},
   "source": [
    "### 1.3 Subscribers"
   ]
  },
  {
   "cell_type": "code",
   "execution_count": 46,
   "metadata": {},
   "outputs": [
    {
     "name": "stderr",
     "output_type": "stream",
     "text": [
      "C:\\ProgramData\\Anaconda3\\lib\\site-packages\\ipykernel_launcher.py:18: SettingWithCopyWarning: \n",
      "A value is trying to be set on a copy of a slice from a DataFrame.\n",
      "Try using .loc[row_indexer,col_indexer] = value instead\n",
      "\n",
      "See the caveats in the documentation: https://pandas.pydata.org/pandas-docs/stable/user_guide/indexing.html#returning-a-view-versus-a-copy\n"
     ]
    }
   ],
   "source": [
    "subscribers = df['subscribers'].str.replace(',','.')\n",
    "\n",
    "def convert_unity(num):\n",
    "    \n",
    "    if 'mil' in num:\n",
    "        num = num.split()[0]\n",
    "        return float(num)*10**3\n",
    "    \n",
    "    elif 'mi' in num:\n",
    "        num = num.split()[0]\n",
    "        return float(num)*10**6\n",
    "    \n",
    "    else:\n",
    "        return float(num)\n",
    "        \n",
    "subscribers = subscribers.map(convert_unity).astype(int)\n",
    "\n",
    "df['subscribers'] = subscribers"
   ]
  },
  {
   "cell_type": "markdown",
   "metadata": {},
   "source": [
    "### 1.4 Views"
   ]
  },
  {
   "cell_type": "code",
   "execution_count": 47,
   "metadata": {},
   "outputs": [
    {
     "name": "stderr",
     "output_type": "stream",
     "text": [
      "C:\\ProgramData\\Anaconda3\\lib\\site-packages\\ipykernel_launcher.py:1: SettingWithCopyWarning: \n",
      "A value is trying to be set on a copy of a slice from a DataFrame.\n",
      "Try using .loc[row_indexer,col_indexer] = value instead\n",
      "\n",
      "See the caveats in the documentation: https://pandas.pydata.org/pandas-docs/stable/user_guide/indexing.html#returning-a-view-versus-a-copy\n",
      "  \"\"\"Entry point for launching an IPython kernel.\n"
     ]
    }
   ],
   "source": [
    "df['views'] = df['views'].str.replace('.', '').astype(int)"
   ]
  },
  {
   "cell_type": "markdown",
   "metadata": {},
   "source": [
    "### Dados prontos"
   ]
  },
  {
   "cell_type": "code",
   "execution_count": 48,
   "metadata": {},
   "outputs": [
    {
     "data": {
      "text/html": [
       "<div>\n",
       "<style scoped>\n",
       "    .dataframe tbody tr th:only-of-type {\n",
       "        vertical-align: middle;\n",
       "    }\n",
       "\n",
       "    .dataframe tbody tr th {\n",
       "        vertical-align: top;\n",
       "    }\n",
       "\n",
       "    .dataframe thead th {\n",
       "        text-align: right;\n",
       "    }\n",
       "</style>\n",
       "<table border=\"1\" class=\"dataframe\">\n",
       "  <thead>\n",
       "    <tr style=\"text-align: right;\">\n",
       "      <th></th>\n",
       "      <th>title</th>\n",
       "      <th>duration</th>\n",
       "      <th>y</th>\n",
       "      <th>link</th>\n",
       "      <th>subscribers</th>\n",
       "      <th>views</th>\n",
       "      <th>likes</th>\n",
       "      <th>dislikes</th>\n",
       "      <th>date</th>\n",
       "      <th>thumbnailUrl</th>\n",
       "    </tr>\n",
       "  </thead>\n",
       "  <tbody>\n",
       "    <tr>\n",
       "      <th>0</th>\n",
       "      <td>Machine Learning Course A To Z || Beginner to ...</td>\n",
       "      <td>08:15:58</td>\n",
       "      <td>0.0</td>\n",
       "      <td>https://www.youtube.com/watch?v=-58kO_zYUGE.html</td>\n",
       "      <td>173000</td>\n",
       "      <td>175311</td>\n",
       "      <td>5131</td>\n",
       "      <td>65</td>\n",
       "      <td>2018-08-10</td>\n",
       "      <td>https://i.ytimg.com/vi/-58kO_zYUGE/maxresdefau...</td>\n",
       "    </tr>\n",
       "    <tr>\n",
       "      <th>1</th>\n",
       "      <td>How to Become A Machine Learning Engineer | Ho...</td>\n",
       "      <td>00:09:44</td>\n",
       "      <td>0.0</td>\n",
       "      <td>https://www.youtube.com/watch?v=-5hEYRt8JE0.html</td>\n",
       "      <td>484000</td>\n",
       "      <td>34724</td>\n",
       "      <td>782</td>\n",
       "      <td>20</td>\n",
       "      <td>2018-09-03</td>\n",
       "      <td>https://i.ytimg.com/vi/-5hEYRt8JE0/maxresdefau...</td>\n",
       "    </tr>\n",
       "    <tr>\n",
       "      <th>2</th>\n",
       "      <td>Python For Data Science Full Course - 9 Hours ...</td>\n",
       "      <td>09:22:56</td>\n",
       "      <td>0.0</td>\n",
       "      <td>https://www.youtube.com/watch?v=-6RqxhNO2yY.html</td>\n",
       "      <td>1620000</td>\n",
       "      <td>18021</td>\n",
       "      <td>680</td>\n",
       "      <td>8</td>\n",
       "      <td>2020-03-15</td>\n",
       "      <td>https://i.ytimg.com/vi/-6RqxhNO2yY/maxresdefau...</td>\n",
       "    </tr>\n",
       "    <tr>\n",
       "      <th>3</th>\n",
       "      <td>Michael I. Jordan: Machine Learning: Dynamical...</td>\n",
       "      <td>01:15:13</td>\n",
       "      <td>0.0</td>\n",
       "      <td>https://www.youtube.com/watch?v=-8yYFdV5SOc.html</td>\n",
       "      <td>2840</td>\n",
       "      <td>4193</td>\n",
       "      <td>94</td>\n",
       "      <td>3</td>\n",
       "      <td>2019-05-02</td>\n",
       "      <td>https://i.ytimg.com/vi/-8yYFdV5SOc/maxresdefau...</td>\n",
       "    </tr>\n",
       "    <tr>\n",
       "      <th>4</th>\n",
       "      <td>Best Programming Languages for Machine Learning</td>\n",
       "      <td>00:08:21</td>\n",
       "      <td>0.0</td>\n",
       "      <td>https://www.youtube.com/watch?v=-cdxxrbKdho.html</td>\n",
       "      <td>702000</td>\n",
       "      <td>103756</td>\n",
       "      <td>3167</td>\n",
       "      <td>155</td>\n",
       "      <td>2018-08-05</td>\n",
       "      <td>https://i.ytimg.com/vi/-cdxxrbKdho/hqdefault.jpg</td>\n",
       "    </tr>\n",
       "    <tr>\n",
       "      <th>...</th>\n",
       "      <td>...</td>\n",
       "      <td>...</td>\n",
       "      <td>...</td>\n",
       "      <td>...</td>\n",
       "      <td>...</td>\n",
       "      <td>...</td>\n",
       "      <td>...</td>\n",
       "      <td>...</td>\n",
       "      <td>...</td>\n",
       "      <td>...</td>\n",
       "    </tr>\n",
       "    <tr>\n",
       "      <th>569</th>\n",
       "      <td>O que é Deep Learning? #HipstersPontoTube</td>\n",
       "      <td>00:10:10</td>\n",
       "      <td>1.0</td>\n",
       "      <td>https://www.youtube.com/watch?v=kryIBKPVZ7A.html</td>\n",
       "      <td>76600</td>\n",
       "      <td>4533</td>\n",
       "      <td>463</td>\n",
       "      <td>3</td>\n",
       "      <td>2020-01-08</td>\n",
       "      <td>https://i.ytimg.com/vi/kryIBKPVZ7A/maxresdefau...</td>\n",
       "    </tr>\n",
       "    <tr>\n",
       "      <th>601</th>\n",
       "      <td>Time Series #1 - Como Criar o Ambiente de Dese...</td>\n",
       "      <td>00:15:24</td>\n",
       "      <td>1.0</td>\n",
       "      <td>https://www.youtube.com/watch?v=lYLGaLEvWto.html</td>\n",
       "      <td>4870</td>\n",
       "      <td>3347</td>\n",
       "      <td>176</td>\n",
       "      <td>1</td>\n",
       "      <td>2019-09-03</td>\n",
       "      <td>https://i.ytimg.com/vi/lYLGaLEvWto/maxresdefau...</td>\n",
       "    </tr>\n",
       "    <tr>\n",
       "      <th>602</th>\n",
       "      <td>Ciência de dados: como é criar o primeiro proj...</td>\n",
       "      <td>00:06:23</td>\n",
       "      <td>1.0</td>\n",
       "      <td>https://www.youtube.com/watch?v=L_SZQKv5Cl0.html</td>\n",
       "      <td>3570000</td>\n",
       "      <td>25722</td>\n",
       "      <td>1661</td>\n",
       "      <td>48</td>\n",
       "      <td>2018-11-16</td>\n",
       "      <td>https://i.ytimg.com/vi/L_SZQKv5Cl0/maxresdefau...</td>\n",
       "    </tr>\n",
       "    <tr>\n",
       "      <th>619</th>\n",
       "      <td>Machine Learning: como ensinar uma máquina a a...</td>\n",
       "      <td>00:10:11</td>\n",
       "      <td>1.0</td>\n",
       "      <td>https://www.youtube.com/watch?v=mhe5e2B9bL8.html</td>\n",
       "      <td>2840000</td>\n",
       "      <td>317616</td>\n",
       "      <td>35638</td>\n",
       "      <td>181</td>\n",
       "      <td>2018-08-30</td>\n",
       "      <td>https://i.ytimg.com/vi/mhe5e2B9bL8/maxresdefau...</td>\n",
       "    </tr>\n",
       "    <tr>\n",
       "      <th>793</th>\n",
       "      <td>Uma jornada rumo à Data Science - Christiano A...</td>\n",
       "      <td>00:30:36</td>\n",
       "      <td>1.0</td>\n",
       "      <td>https://www.youtube.com/watch?v=repvSAPjB-s.html</td>\n",
       "      <td>15000</td>\n",
       "      <td>24300</td>\n",
       "      <td>1070</td>\n",
       "      <td>12</td>\n",
       "      <td>2017-10-02</td>\n",
       "      <td>https://i.ytimg.com/vi/repvSAPjB-s/maxresdefau...</td>\n",
       "    </tr>\n",
       "  </tbody>\n",
       "</table>\n",
       "<p>521 rows × 10 columns</p>\n",
       "</div>"
      ],
      "text/plain": [
       "                                                 title duration    y  \\\n",
       "0    Machine Learning Course A To Z || Beginner to ... 08:15:58  0.0   \n",
       "1    How to Become A Machine Learning Engineer | Ho... 00:09:44  0.0   \n",
       "2    Python For Data Science Full Course - 9 Hours ... 09:22:56  0.0   \n",
       "3    Michael I. Jordan: Machine Learning: Dynamical... 01:15:13  0.0   \n",
       "4      Best Programming Languages for Machine Learning 00:08:21  0.0   \n",
       "..                                                 ...      ...  ...   \n",
       "569          O que é Deep Learning? #HipstersPontoTube 00:10:10  1.0   \n",
       "601  Time Series #1 - Como Criar o Ambiente de Dese... 00:15:24  1.0   \n",
       "602  Ciência de dados: como é criar o primeiro proj... 00:06:23  1.0   \n",
       "619  Machine Learning: como ensinar uma máquina a a... 00:10:11  1.0   \n",
       "793  Uma jornada rumo à Data Science - Christiano A... 00:30:36  1.0   \n",
       "\n",
       "                                                 link  subscribers   views  \\\n",
       "0    https://www.youtube.com/watch?v=-58kO_zYUGE.html       173000  175311   \n",
       "1    https://www.youtube.com/watch?v=-5hEYRt8JE0.html       484000   34724   \n",
       "2    https://www.youtube.com/watch?v=-6RqxhNO2yY.html      1620000   18021   \n",
       "3    https://www.youtube.com/watch?v=-8yYFdV5SOc.html         2840    4193   \n",
       "4    https://www.youtube.com/watch?v=-cdxxrbKdho.html       702000  103756   \n",
       "..                                                ...          ...     ...   \n",
       "569  https://www.youtube.com/watch?v=kryIBKPVZ7A.html        76600    4533   \n",
       "601  https://www.youtube.com/watch?v=lYLGaLEvWto.html         4870    3347   \n",
       "602  https://www.youtube.com/watch?v=L_SZQKv5Cl0.html      3570000   25722   \n",
       "619  https://www.youtube.com/watch?v=mhe5e2B9bL8.html      2840000  317616   \n",
       "793  https://www.youtube.com/watch?v=repvSAPjB-s.html        15000   24300   \n",
       "\n",
       "     likes  dislikes       date  \\\n",
       "0     5131        65 2018-08-10   \n",
       "1      782        20 2018-09-03   \n",
       "2      680         8 2020-03-15   \n",
       "3       94         3 2019-05-02   \n",
       "4     3167       155 2018-08-05   \n",
       "..     ...       ...        ...   \n",
       "569    463         3 2020-01-08   \n",
       "601    176         1 2019-09-03   \n",
       "602   1661        48 2018-11-16   \n",
       "619  35638       181 2018-08-30   \n",
       "793   1070        12 2017-10-02   \n",
       "\n",
       "                                          thumbnailUrl  \n",
       "0    https://i.ytimg.com/vi/-58kO_zYUGE/maxresdefau...  \n",
       "1    https://i.ytimg.com/vi/-5hEYRt8JE0/maxresdefau...  \n",
       "2    https://i.ytimg.com/vi/-6RqxhNO2yY/maxresdefau...  \n",
       "3    https://i.ytimg.com/vi/-8yYFdV5SOc/maxresdefau...  \n",
       "4     https://i.ytimg.com/vi/-cdxxrbKdho/hqdefault.jpg  \n",
       "..                                                 ...  \n",
       "569  https://i.ytimg.com/vi/kryIBKPVZ7A/maxresdefau...  \n",
       "601  https://i.ytimg.com/vi/lYLGaLEvWto/maxresdefau...  \n",
       "602  https://i.ytimg.com/vi/L_SZQKv5Cl0/maxresdefau...  \n",
       "619  https://i.ytimg.com/vi/mhe5e2B9bL8/maxresdefau...  \n",
       "793  https://i.ytimg.com/vi/repvSAPjB-s/maxresdefau...  \n",
       "\n",
       "[521 rows x 10 columns]"
      ]
     },
     "execution_count": 48,
     "metadata": {},
     "output_type": "execute_result"
    }
   ],
   "source": [
    "df.to_json('data_from_mdl.json')\n",
    "df"
   ]
  },
  {
   "cell_type": "markdown",
   "metadata": {},
   "source": [
    "# 2 Features"
   ]
  },
  {
   "cell_type": "code",
   "execution_count": 13,
   "metadata": {},
   "outputs": [],
   "source": [
    "features = pd.DataFrame(index=df.index)\n",
    "y = df['y'].copy()"
   ]
  },
  {
   "cell_type": "code",
   "execution_count": 14,
   "metadata": {},
   "outputs": [],
   "source": [
    "features['time_pub'] = (pd.to_datetime('2020-04-23') - df['date']) / np.timedelta64(1, 'D')\n",
    "features['views'] = df['views']\n",
    "features['views_for_day'] = round(features['views'] / features['time_pub'], 2)"
   ]
  },
  {
   "cell_type": "code",
   "execution_count": 25,
   "metadata": {},
   "outputs": [
    {
     "data": {
      "text/plain": [
       "<matplotlib.axes._subplots.AxesSubplot at 0x1235f917308>"
      ]
     },
     "execution_count": 25,
     "metadata": {},
     "output_type": "execute_result"
    },
    {
     "data": {
      "image/png": "[encoded data removed]",
      "text/plain": [
       "<Figure size 1152x576 with 1 Axes>"
      ]
     },
     "metadata": {
      "needs_background": "light"
     },
     "output_type": "display_data"
    }
   ],
   "source": [
    "df['date'].value_counts().plot(figsize=(16,8))"
   ]
  },
  {
   "cell_type": "code",
   "execution_count": 16,
   "metadata": {},
   "outputs": [
    {
     "data": {
      "text/html": [
       "<div>\n",
       "<style scoped>\n",
       "    .dataframe tbody tr th:only-of-type {\n",
       "        vertical-align: middle;\n",
       "    }\n",
       "\n",
       "    .dataframe tbody tr th {\n",
       "        vertical-align: top;\n",
       "    }\n",
       "\n",
       "    .dataframe thead th {\n",
       "        text-align: right;\n",
       "    }\n",
       "</style>\n",
       "<table border=\"1\" class=\"dataframe\">\n",
       "  <thead>\n",
       "    <tr style=\"text-align: right;\">\n",
       "      <th></th>\n",
       "      <th>views</th>\n",
       "      <th>views_for_day</th>\n",
       "    </tr>\n",
       "  </thead>\n",
       "  <tbody>\n",
       "    <tr>\n",
       "      <th>0</th>\n",
       "      <td>175311</td>\n",
       "      <td>281.85</td>\n",
       "    </tr>\n",
       "    <tr>\n",
       "      <th>1</th>\n",
       "      <td>34724</td>\n",
       "      <td>58.07</td>\n",
       "    </tr>\n",
       "    <tr>\n",
       "      <th>2</th>\n",
       "      <td>18021</td>\n",
       "      <td>462.08</td>\n",
       "    </tr>\n",
       "    <tr>\n",
       "      <th>3</th>\n",
       "      <td>4193</td>\n",
       "      <td>11.75</td>\n",
       "    </tr>\n",
       "    <tr>\n",
       "      <th>4</th>\n",
       "      <td>103756</td>\n",
       "      <td>165.48</td>\n",
       "    </tr>\n",
       "  </tbody>\n",
       "</table>\n",
       "</div>"
      ],
      "text/plain": [
       "    views  views_for_day\n",
       "0  175311         281.85\n",
       "1   34724          58.07\n",
       "2   18021         462.08\n",
       "3    4193          11.75\n",
       "4  103756         165.48"
      ]
     },
     "execution_count": 16,
     "metadata": {},
     "output_type": "execute_result"
    }
   ],
   "source": [
    "features = features.drop(['time_pub'], axis=1)\n",
    "#descartar a coluna de tempo desde a publicação pq o mecanisco de busca do ytb \n",
    "#retorna muito mais video recente\n",
    "features.head()"
   ]
  },
  {
   "cell_type": "code",
   "execution_count": 17,
   "metadata": {},
   "outputs": [
    {
     "data": {
      "text/plain": [
       "((293, 2), (228, 2), (293,), (228,))"
      ]
     },
     "execution_count": 17,
     "metadata": {},
     "output_type": "execute_result"
    }
   ],
   "source": [
    "xtrain, xvalid = features[df['date'] < '2019-07-31'], features[df['date'] >= '2019-07-31']\n",
    "ytrain, yvalid = y[df['date'] < '2019-07-31'], y[df['date'] >= '2019-07-31']\n",
    "#aproximadamente 50% teste, 50% validação\n",
    "xtrain.shape, xvalid.shape, ytrain.shape, yvalid.shape"
   ]
  },
  {
   "cell_type": "code",
   "execution_count": 18,
   "metadata": {},
   "outputs": [
    {
     "data": {
      "text/plain": [
       "DecisionTreeClassifier(ccp_alpha=0.0, class_weight='balanced', criterion='gini',\n",
       "                       max_depth=2, max_features=None, max_leaf_nodes=None,\n",
       "                       min_impurity_decrease=0.0, min_impurity_split=None,\n",
       "                       min_samples_leaf=1, min_samples_split=2,\n",
       "                       min_weight_fraction_leaf=0.0, presort='deprecated',\n",
       "                       random_state=42, splitter='best')"
      ]
     },
     "execution_count": 18,
     "metadata": {},
     "output_type": "execute_result"
    }
   ],
   "source": [
    "from sklearn.tree import DecisionTreeClassifier\n",
    "mdl1 = DecisionTreeClassifier(random_state= 42, max_depth=2, class_weight='balanced')\n",
    "#class_weight='balanced' é para balanciar as classes (y = 0 ou 1), pois temos bem mais exemplos y=0\n",
    "mdl1.fit(xtrain, ytrain)"
   ]
  },
  {
   "cell_type": "code",
   "execution_count": 19,
   "metadata": {},
   "outputs": [],
   "source": [
    "p = mdl1.predict_proba(xvalid)[:, 1]\n",
    "#duas colunas, coluna0 = prob de ser 0, coluna1 = prob de ser 1"
   ]
  },
  {
   "cell_type": "code",
   "execution_count": 20,
   "metadata": {},
   "outputs": [],
   "source": [
    "from sklearn.metrics import roc_auc_score, average_precision_score\n",
    "#escolher as metricas para a valiação"
   ]
  },
  {
   "cell_type": "code",
   "execution_count": 21,
   "metadata": {},
   "outputs": [
    {
     "data": {
      "text/plain": [
       "0.07988304093567253"
      ]
     },
     "execution_count": 21,
     "metadata": {},
     "output_type": "execute_result"
    }
   ],
   "source": [
    "average_precision_score(yvalid, p)"
   ]
  },
  {
   "cell_type": "code",
   "execution_count": 22,
   "metadata": {},
   "outputs": [
    {
     "data": {
      "text/plain": [
       "0.5715596330275229"
      ]
     },
     "execution_count": 22,
     "metadata": {},
     "output_type": "execute_result"
    }
   ],
   "source": [
    "roc_auc_score(yvalid, p)"
   ]
  },
  {
   "cell_type": "code",
   "execution_count": 30,
   "metadata": {},
   "outputs": [
    {
     "data": {
      "text/plain": [
       "[Text(267.84000000000003, 362.4, 'views_for_day <= 531.7\\ngini = 0.5\\nsamples = 293\\nvalue = [146.5, 146.5]'),\n",
       " Text(178.56, 217.44, 'views_for_day <= 459.455\\ngini = 0.498\\nsamples = 261\\nvalue = [129.391, 146.5]'),\n",
       " Text(89.28, 72.47999999999996, 'gini = 0.499\\nsamples = 251\\nvalue = [126.182, 115.658]'),\n",
       " Text(267.84000000000003, 72.47999999999996, 'gini = 0.171\\nsamples = 10\\nvalue = [3.208, 30.842]'),\n",
       " Text(357.12, 217.44, 'gini = -0.0\\nsamples = 32\\nvalue = [17.109, 0.0]')]"
      ]
     },
     "execution_count": 30,
     "metadata": {},
     "output_type": "execute_result"
    },
    {
     "data": {
      "image/png": "[encoded data removed]",
      "text/plain": [
       "<Figure size 576x576 with 1 Axes>"
      ]
     },
     "metadata": {
      "needs_background": "light"
     },
     "output_type": "display_data"
    }
   ],
   "source": [
    "from sklearn.tree import plot_tree\n",
    "import matplotlib.pyplot as plt\n",
    "plt.figure(figsize=(8,8))\n",
    "plot_tree(mdl1, feature_names=xtrain.columns)\n",
    "#Setas à esquerda = True   \\ Setas a direita = False\n",
    "#samples = exemplos que passaram/estão pelo nó\n",
    "#value = [peso dos exemplos negativos, peso dos exemplos positivos]"
   ]
  }
 ],
 "metadata": {
  "kernelspec": {
   "display_name": "Python 3",
   "language": "python",
   "name": "python3"
  },
  "language_info": {
   "codemirror_mode": {
    "name": "ipython",
    "version": 3
   },
   "file_extension": ".py",
   "mimetype": "text/x-python",
   "name": "python",
   "nbconvert_exporter": "python",
   "pygments_lexer": "ipython3",
   "version": "3.7.6"
  }
 },
 "nbformat": 4,
 "nbformat_minor": 4
}
